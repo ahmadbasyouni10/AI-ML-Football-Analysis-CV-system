{
 "cells": [
  {
   "cell_type": "markdown",
   "id": "b401e2ac-cf63-4fb0-b928-83ce3413c4a2",
   "metadata": {},
   "source": [
    "## Wordle Python implementation\n",
    "Ahmad Basyouni, Alysa Vega, Miguel Luna"
   ]
  },
  {
   "cell_type": "code",
   "execution_count": 1,
   "id": "0b066e79-ac28-4011-9b15-52978fb9ae2a",
   "metadata": {},
   "outputs": [],
   "source": [
    "import pandas as pd\n",
    "from collections import Counter\n",
    "import emoji # ! pip install emoji"
   ]
  },
  {
   "cell_type": "code",
   "execution_count": 2,
   "id": "2fd6fecd",
   "metadata": {},
   "outputs": [],
   "source": [
    "# Dataset from https://github.com/steve-kasica/wordle-words\n",
    "\n",
    "word_list = pd.read_csv(\"wordle.csv\", index_col=False)[[\"word\", \"day\"]]\n",
    "word_list = word_list[(word_list[\"day\"] >= 0) & (word_list[\"day\"] <= 2313)] # 2,313 actual Wordle answers from dataset"
   ]
  },
  {
   "cell_type": "code",
   "execution_count": 3,
   "id": "96477a37-cf43-47ed-a302-0766c40e2794",
   "metadata": {},
   "outputs": [],
   "source": [
    "# Class that represents information about, and the ability to play a single game of Wordle\n",
    "class game:\n",
    "    \n",
    "    # Initialize \n",
    "    def __init__(self): \n",
    "        self.set_game() # This sets game word and number\n",
    "        self.results = []\n",
    "        self.attempts = 0\n",
    "\n",
    "    # Set game based on Wordle number\n",
    "    def set_game(self, number = -1):    # Randomize by default\n",
    "\n",
    "        if(number < 0 or number > 2313):     \n",
    "            self.word = word_list.sample(n=1).iloc[0][\"word\"]\n",
    "            self.date = word_list[word_list[\"word\"] == self.word].iloc[0][\"day\"]\n",
    "        else:\n",
    "            self.word = word_list[word_list[\"day\"] == number].iloc[0][\"word\"]   # Randomize on invalid number or input\n",
    "            self.date = number\n",
    "\n",
    "    def __str__(self):\n",
    "        return f\"{self.word}: guessed in {self.attempts} tries: \\n{self.results}\\n\"\n",
    "    \n",
    "    # A game of Wordle\n",
    "    def play(self):\n",
    "        \n",
    "        solved = False\n",
    "        while (self.attempts < 6 and solved == False): # 6 tries\n",
    "\n",
    "            counts = Counter(self.word) # Get counts of each character in the word\n",
    "            guess = input(f\"Enter a word for guess {self.attempts + 1}:\").lower()\n",
    "                \n",
    "            if not(guess.isalpha()) or len(guess) != 5: # Invalid string (not a word)\n",
    "                print(\"Invalid guess format. Guess must contain only alphabetical characters and be 5 characters long.\")\n",
    "            elif guess not in word_list[\"word\"].to_list(): # Word not in list of existing Wordle answers\n",
    "                print(\"Word not recognized.\")\n",
    "                \n",
    "            else:\n",
    "\n",
    "                self.results.append(guess)\n",
    "                correctness = \"\"\n",
    "\n",
    "                for i in range(0, 5): # Compare corresponding letter between guess and word\n",
    "\n",
    "                    if guess[i] == self.word[i]:\n",
    "                        correctness += \":green_square: \" # Green square emoji\n",
    "                        counts[guess[i]] -= 1\n",
    "                        \n",
    "                    elif guess[i] in self.word and counts[guess[i]] > 0:\n",
    "                        correctness += \":yellow_square: \" # Yellow square emoji\n",
    "                        counts[guess[i]] -= 1\n",
    "                        \n",
    "                    else:\n",
    "                        correctness += \":black_large_square: \" # Black square emoji\n",
    "                        \n",
    "\n",
    "                print(guess, \"\\n\", emoji.emojize(correctness)) # Print guess and results (as emojis)\n",
    "                \n",
    "                if(guess == self.word):\n",
    "                    solved = True\n",
    "                \n",
    "                self.attempts += 1\n",
    "\n",
    "        if solved:\n",
    "            congrats = [\"Genius\", \"Magnificent\", \"Impressive\", \"Splendid\", \"Great\", \"Phew\"]\n",
    "            print(congrats[self.attempts - 1])  # Print corresponding congratulatory message like real Wordle\n",
    "        else:\n",
    "            self.attempts += 1          # Add attempt to make a loss count as 7 attempts\n",
    "            print(self.word.upper())    # Reveal solution"
   ]
  },
  {
   "cell_type": "code",
   "execution_count": 4,
   "id": "ff8ffe49",
   "metadata": {},
   "outputs": [
    {
     "name": "stdout",
     "output_type": "stream",
     "text": [
      "crane \n",
      " 🟩 🟨 🟨 ⬛ ⬛ \n",
      "cargo \n",
      " 🟩 🟨 🟨 🟨 ⬛ \n",
      "cigar \n",
      " 🟩 🟩 🟩 🟩 🟩 \n",
      "Impressive\n"
     ]
    }
   ],
   "source": [
    "new_game = game()\n",
    "new_game.set_game(number=0) # Word is \"cigar\"\n",
    "new_game.play()"
   ]
  },
  {
   "cell_type": "code",
   "execution_count": 5,
   "id": "b53fa9fc",
   "metadata": {},
   "outputs": [],
   "source": [
    "# Class that represents a Wordle application as a whole\n",
    "class wordle:\n",
    "    \n",
    "    # Initialize\n",
    "    def __init__(self):\n",
    "        self.games = []\n",
    "        self.streaks = {1: 0, 2: 0, 3: 0, 4: 0, 5: 0, 6: 0}\n",
    "\n",
    "    # Print all previously played games\n",
    "    def history(self):\n",
    "        for item in self.games:\n",
    "            print(item)\n",
    "\n",
    "    # Print streaks\n",
    "    def records(self):\n",
    "        return [ print(f\"{key}: {value}\") for key, value in self.streaks.items() ]\n",
    "    \n",
    "    # Update streaks\n",
    "    def add_win(self, tries):\n",
    "        self.streaks[tries] = self.streaks[tries] + 1\n",
    "\n",
    "    # Reset streaks\n",
    "    def reset(self):\n",
    "        self.streaks = {1: 0, 2: 0, 3: 0, 4: 0, 5: 0, 6: 0}\n",
    "\n",
    "    # Play a Wordle game and save stats afterwards\n",
    "    def play_wordle(self):\n",
    "        new_game = game()\n",
    "        \n",
    "        # Choose Wordle number\n",
    "        date = input(\"Enter the game number you want to play:\") \n",
    "        if date.isdigit() and int(date) >= 0 and int(date) <= 2313:\n",
    "            new_game.set_game(number = int(date))\n",
    "        else:\n",
    "            print(\"Invalid input, choosing a random game.\")\n",
    "            new_game.set_game()\n",
    "\n",
    "        # Play game\n",
    "        new_game.play()\n",
    "        self.games.append(new_game)\n",
    "        \n",
    "        if(new_game.attempts < 6):\n",
    "            self.add_win(new_game.attempts) # Game won\n",
    "        else:\n",
    "            self.reset() # Game lost, reset streaks"
   ]
  },
  {
   "cell_type": "code",
   "execution_count": 6,
   "id": "bb9e00cd",
   "metadata": {},
   "outputs": [],
   "source": [
    "# Create a Wordle instance\n",
    "my_session = wordle() \n",
    "\n",
    "# Data is re-initialized whenever this is run!"
   ]
  },
  {
   "cell_type": "code",
   "execution_count": 7,
   "id": "245f0662",
   "metadata": {},
   "outputs": [
    {
     "name": "stdout",
     "output_type": "stream",
     "text": [
      "cigar \n",
      " 🟩 🟩 🟩 🟩 🟩 \n",
      "Genius\n",
      "\n",
      "Game history:\n",
      "\n",
      "cigar: guessed in 1 tries: \n",
      "['cigar']\n",
      "\n",
      "Streaks:\n",
      "1: 1\n",
      "2: 0\n",
      "3: 0\n",
      "4: 0\n",
      "5: 0\n",
      "6: 0\n"
     ]
    },
    {
     "data": {
      "text/plain": [
       "[None, None, None, None, None, None]"
      ]
     },
     "execution_count": 7,
     "metadata": {},
     "output_type": "execute_result"
    }
   ],
   "source": [
    "my_session.play_wordle() # Play a game of Wordle\n",
    "\n",
    "print('\\nGame history:\\n') # View past games\n",
    "my_session.history()\n",
    "\n",
    "print('Streaks:') # View streaks\n",
    "my_session.records()"
   ]
  }
 ],
 "metadata": {
  "kernelspec": {
   "display_name": "Python 3 (ipykernel)",
   "language": "python",
   "name": "python3"
  },
  "language_info": {
   "codemirror_mode": {
    "name": "ipython",
    "version": 3
   },
   "file_extension": ".py",
   "mimetype": "text/x-python",
   "name": "python",
   "nbconvert_exporter": "python",
   "pygments_lexer": "ipython3",
   "version": "3.11.9"
  }
 },
 "nbformat": 4,
 "nbformat_minor": 5
}
